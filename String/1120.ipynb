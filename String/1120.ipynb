{
 "cells": [
  {
   "cell_type": "code",
   "execution_count": 7,
   "id": "07398016",
   "metadata": {},
   "outputs": [
    {
     "name": "stdout",
     "output_type": "stream",
     "text": [
      "giorgi igroig\n",
      "6\n"
     ]
    }
   ],
   "source": [
    "a, b = input().split()\n",
    "\n",
    "na = len(a)\n",
    "nb = len(b)\n",
    "d = nb - na\n",
    "diff = 0\n",
    "res = 9999999\n",
    "\n",
    "for i in range(d+1):\n",
    "    for j in range(na):\n",
    "        if a[j] != b[i+j]:\n",
    "            diff += 1\n",
    "    if res > diff:\n",
    "        res = diff\n",
    "    diff = 0\n",
    "\n",
    "print(res)\n"
   ]
  },
  {
   "cell_type": "code",
   "execution_count": null,
   "id": "4f7dc3cb",
   "metadata": {},
   "outputs": [],
   "source": []
  }
 ],
 "metadata": {
  "kernelspec": {
   "display_name": "Python 3 (ipykernel)",
   "language": "python",
   "name": "python3"
  },
  "language_info": {
   "codemirror_mode": {
    "name": "ipython",
    "version": 3
   },
   "file_extension": ".py",
   "mimetype": "text/x-python",
   "name": "python",
   "nbconvert_exporter": "python",
   "pygments_lexer": "ipython3",
   "version": "3.9.7"
  }
 },
 "nbformat": 4,
 "nbformat_minor": 5
}
