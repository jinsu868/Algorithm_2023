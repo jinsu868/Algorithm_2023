{
 "cells": [
  {
   "cell_type": "code",
   "execution_count": 21,
   "id": "077abae9",
   "metadata": {},
   "outputs": [
    {
     "name": "stdout",
     "output_type": "stream",
     "text": [
      "0001100\n",
      "0001100\n",
      "1\n"
     ]
    }
   ],
   "source": [
    "s = input()\n",
    "bef = s[0]\n",
    "res = [0, 0]\n",
    "\n",
    "print(s)\n",
    "\n",
    "for i in range(1, len(s)):\n",
    "    if s[i] == bef:\n",
    "        continue\n",
    "    else:\n",
    "        if s[i] == '1':\n",
    "            res[0] += 1\n",
    "        elif s[i] == '0':\n",
    "            res[1] += 1\n",
    "        bef = s[i]\n",
    "\n",
    "if s[-1] == '1':\n",
    "    res[1] += 1\n",
    "else:\n",
    "    res[0] += 1\n",
    "\n",
    "\n",
    "print(min(res[0], res[1]))"
   ]
  },
  {
   "cell_type": "code",
   "execution_count": null,
   "id": "c9fdc97e",
   "metadata": {},
   "outputs": [],
   "source": []
  }
 ],
 "metadata": {
  "kernelspec": {
   "display_name": "Python 3 (ipykernel)",
   "language": "python",
   "name": "python3"
  },
  "language_info": {
   "codemirror_mode": {
    "name": "ipython",
    "version": 3
   },
   "file_extension": ".py",
   "mimetype": "text/x-python",
   "name": "python",
   "nbconvert_exporter": "python",
   "pygments_lexer": "ipython3",
   "version": "3.9.7"
  }
 },
 "nbformat": 4,
 "nbformat_minor": 5
}
