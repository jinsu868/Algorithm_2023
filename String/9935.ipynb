{
 "cells": [
  {
   "cell_type": "code",
   "execution_count": 23,
   "id": "8a87c8eb",
   "metadata": {},
   "outputs": [
    {
     "name": "stdout",
     "output_type": "stream",
     "text": [
      "mirkovC4nizCC44\n",
      "C4\n",
      "mirkovniz\n"
     ]
    }
   ],
   "source": [
    "import re\n",
    "\n",
    "s = input()\n",
    "target = input()\n",
    "\n",
    "while s.find(target) != -1:\n",
    "    s = re.sub(target, \"\", s)\n",
    "\n",
    "if s == \"\":\n",
    "    print(\"FRULA\")\n",
    "else:\n",
    "    print(s)"
   ]
  },
  {
   "cell_type": "code",
   "execution_count": 30,
   "id": "490bd2a2",
   "metadata": {},
   "outputs": [
    {
     "name": "stdout",
     "output_type": "stream",
     "text": [
      "12ab112ab2ab\n",
      "12ab\n",
      "FRULA\n"
     ]
    }
   ],
   "source": [
    "s = input().rstrip()\n",
    "target = input().rstrip()\n",
    "st = []\n",
    "\n",
    "for c in s:\n",
    "    st.append(c)\n",
    "    if c == st[-1] and ''.join(st[-len(target):]) == target:\n",
    "        del st[-len(target):]\n",
    "    \n",
    "res = ''.join(st)\n",
    "if res == '':\n",
    "    \n",
    "    print(\"FRULA\")\n",
    "else:\n",
    "    print(res)"
   ]
  },
  {
   "cell_type": "code",
   "execution_count": null,
   "id": "876d9e72",
   "metadata": {},
   "outputs": [],
   "source": []
  }
 ],
 "metadata": {
  "kernelspec": {
   "display_name": "Python 3 (ipykernel)",
   "language": "python",
   "name": "python3"
  },
  "language_info": {
   "codemirror_mode": {
    "name": "ipython",
    "version": 3
   },
   "file_extension": ".py",
   "mimetype": "text/x-python",
   "name": "python",
   "nbconvert_exporter": "python",
   "pygments_lexer": "ipython3",
   "version": "3.9.7"
  }
 },
 "nbformat": 4,
 "nbformat_minor": 5
}
