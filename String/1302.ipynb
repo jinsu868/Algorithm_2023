{
 "cells": [
  {
   "cell_type": "code",
   "execution_count": null,
   "id": "976847b8",
   "metadata": {},
   "outputs": [
    {
     "name": "stdout",
     "output_type": "stream",
     "text": [
      "9\n",
      "table\n",
      "chair\n",
      "table\n",
      "table\n",
      "lamp\n",
      "door\n"
     ]
    }
   ],
   "source": [
    "n = int(input())\n",
    "d = dict()\n",
    "res = []\n",
    "\n",
    "for _ in range(n):\n",
    "    x = input()\n",
    "    if x in d:\n",
    "        d[x] += 1\n",
    "    else:\n",
    "        d[x] = 1\n",
    "        \n",
    "m = max(d.values())\n",
    "\n",
    "for i in d:\n",
    "    if m == d[i]:\n",
    "        res.append(i)\n",
    "\n",
    "res.sort()\n",
    "print(res[0])\n",
    "\n"
   ]
  },
  {
   "cell_type": "code",
   "execution_count": null,
   "id": "cf85e7f9",
   "metadata": {},
   "outputs": [],
   "source": []
  }
 ],
 "metadata": {
  "kernelspec": {
   "display_name": "Python 3 (ipykernel)",
   "language": "python",
   "name": "python3"
  },
  "language_info": {
   "codemirror_mode": {
    "name": "ipython",
    "version": 3
   },
   "file_extension": ".py",
   "mimetype": "text/x-python",
   "name": "python",
   "nbconvert_exporter": "python",
   "pygments_lexer": "ipython3",
   "version": "3.9.7"
  }
 },
 "nbformat": 4,
 "nbformat_minor": 5
}
